{
 "cells": [
  {
   "cell_type": "code",
   "execution_count": 1,
   "metadata": {},
   "outputs": [],
   "source": [
    "import numpy as np\n",
    "import pandas as pd\n",
    "import matplotlib.pyplot as plt\n",
    "%matplotlib inline\n",
    "import seaborn as sns\n",
    "import warnings\n",
    "\n",
    "warnings.filterwarnings(\"ignore\")"
   ]
  },
  {
   "cell_type": "code",
   "execution_count": 2,
   "metadata": {},
   "outputs": [],
   "source": [
    "matches = pd.read_csv('IPL Matches 2008-2020.csv')"
   ]
  },
  {
   "cell_type": "code",
   "execution_count": 3,
   "metadata": {},
   "outputs": [],
   "source": [
    "matches = matches.iloc[:,0:17]"
   ]
  },
  {
   "cell_type": "code",
   "execution_count": 4,
   "metadata": {},
   "outputs": [
    {
     "data": {
      "text/plain": [
       "id                   0\n",
       "city                13\n",
       "date                 0\n",
       "player_of_match      4\n",
       "venue                0\n",
       "neutral_venue        0\n",
       "team1                0\n",
       "team2                0\n",
       "toss_winner          0\n",
       "toss_decision        0\n",
       "winner               4\n",
       "result               4\n",
       "result_margin       17\n",
       "eliminator           4\n",
       "method             797\n",
       "umpire1              0\n",
       "umpire2              0\n",
       "dtype: int64"
      ]
     },
     "execution_count": 4,
     "metadata": {},
     "output_type": "execute_result"
    }
   ],
   "source": [
    "matches.isna().sum()"
   ]
  },
  {
   "cell_type": "code",
   "execution_count": 5,
   "metadata": {},
   "outputs": [],
   "source": [
    "matches['method'] = matches['method'].apply(lambda x: 1 if x == 'D/L' else 0)"
   ]
  },
  {
   "cell_type": "code",
   "execution_count": 6,
   "metadata": {},
   "outputs": [],
   "source": [
    "matches.loc[matches['result']=='tie','result_margin'] = 0"
   ]
  },
  {
   "cell_type": "code",
   "execution_count": 7,
   "metadata": {},
   "outputs": [],
   "source": [
    "matches.loc[matches.city =='Bengaluru','city'] = 'Bangalore'"
   ]
  },
  {
   "cell_type": "code",
   "execution_count": 8,
   "metadata": {
    "scrolled": true
   },
   "outputs": [
    {
     "data": {
      "text/plain": [
       "array(['Royal Challengers Bangalore', 'Kings XI Punjab',\n",
       "       'Delhi Daredevils', 'Mumbai Indians', 'Kolkata Knight Riders',\n",
       "       'Rajasthan Royals', 'Deccan Chargers', 'Chennai Super Kings',\n",
       "       'Kochi Tuskers Kerala', 'Pune Warriors', 'Sunrisers Hyderabad',\n",
       "       'Gujarat Lions', 'Rising Pune Supergiants',\n",
       "       'Rising Pune Supergiant', 'Delhi Capitals'], dtype=object)"
      ]
     },
     "execution_count": 8,
     "metadata": {},
     "output_type": "execute_result"
    }
   ],
   "source": [
    "matches.team1.unique()"
   ]
  },
  {
   "cell_type": "code",
   "execution_count": 9,
   "metadata": {},
   "outputs": [],
   "source": [
    "matches['team1'].replace('Rising Pune Supergiant', 'Rising Pune Supergiants', inplace = True)\n",
    "matches['team2'].replace('Rising Pune Supergiant', 'Rising Pune Supergiants', inplace = True)"
   ]
  },
  {
   "cell_type": "code",
   "execution_count": 10,
   "metadata": {},
   "outputs": [],
   "source": [
    "Team_Name = matches.team1.unique()\n",
    "y = ['RCB','PBKS','DD','MI','KKR','RR','Deccan Chargers','SRH','CSK','KTK','PW','GL','RPS','DC']\n",
    "\n",
    "matches.replace(Team_Name,y,inplace=True)"
   ]
  },
  {
   "cell_type": "code",
   "execution_count": 11,
   "metadata": {},
   "outputs": [],
   "source": [
    "matches.loc[matches.venue =='Sharjah Cricket Stadium','city'] = 'Sharjah'\n",
    "matches.loc[matches.venue =='Dubai International Cricket Stadium','city'] = 'Dubai'"
   ]
  },
  {
   "cell_type": "code",
   "execution_count": 12,
   "metadata": {
    "scrolled": true
   },
   "outputs": [
    {
     "data": {
      "text/plain": [
       "id                 0\n",
       "city               0\n",
       "date               0\n",
       "player_of_match    4\n",
       "venue              0\n",
       "neutral_venue      0\n",
       "team1              0\n",
       "team2              0\n",
       "toss_winner        0\n",
       "toss_decision      0\n",
       "winner             4\n",
       "result             4\n",
       "result_margin      4\n",
       "eliminator         4\n",
       "method             0\n",
       "umpire1            0\n",
       "umpire2            0\n",
       "dtype: int64"
      ]
     },
     "execution_count": 12,
     "metadata": {},
     "output_type": "execute_result"
    }
   ],
   "source": [
    "matches.isna().sum()"
   ]
  },
  {
   "cell_type": "code",
   "execution_count": 13,
   "metadata": {
    "scrolled": true
   },
   "outputs": [],
   "source": [
    "matches = matches.dropna()"
   ]
  },
  {
   "cell_type": "code",
   "execution_count": 14,
   "metadata": {},
   "outputs": [
    {
     "data": {
      "text/plain": [
       "(812, 17)"
      ]
     },
     "execution_count": 14,
     "metadata": {},
     "output_type": "execute_result"
    }
   ],
   "source": [
    "matches.shape"
   ]
  },
  {
   "cell_type": "code",
   "execution_count": 15,
   "metadata": {
    "scrolled": true
   },
   "outputs": [
    {
     "data": {
      "text/plain": [
       "Index(['id', 'city', 'date', 'player_of_match', 'venue', 'neutral_venue',\n",
       "       'team1', 'team2', 'toss_winner', 'toss_decision', 'winner', 'result',\n",
       "       'result_margin', 'eliminator', 'method', 'umpire1', 'umpire2'],\n",
       "      dtype='object')"
      ]
     },
     "execution_count": 15,
     "metadata": {},
     "output_type": "execute_result"
    }
   ],
   "source": [
    "matches.columns"
   ]
  },
  {
   "cell_type": "code",
   "execution_count": 16,
   "metadata": {},
   "outputs": [
    {
     "name": "stdout",
     "output_type": "stream",
     "text": [
      "<class 'pandas.core.frame.DataFrame'>\n",
      "Int64Index: 812 entries, 0 to 815\n",
      "Data columns (total 17 columns):\n",
      " #   Column           Non-Null Count  Dtype  \n",
      "---  ------           --------------  -----  \n",
      " 0   id               812 non-null    int64  \n",
      " 1   city             812 non-null    object \n",
      " 2   date             812 non-null    object \n",
      " 3   player_of_match  812 non-null    object \n",
      " 4   venue            812 non-null    object \n",
      " 5   neutral_venue    812 non-null    int64  \n",
      " 6   team1            812 non-null    object \n",
      " 7   team2            812 non-null    object \n",
      " 8   toss_winner      812 non-null    object \n",
      " 9   toss_decision    812 non-null    object \n",
      " 10  winner           812 non-null    object \n",
      " 11  result           812 non-null    object \n",
      " 12  result_margin    812 non-null    float64\n",
      " 13  eliminator       812 non-null    object \n",
      " 14  method           812 non-null    int64  \n",
      " 15  umpire1          812 non-null    object \n",
      " 16  umpire2          812 non-null    object \n",
      "dtypes: float64(1), int64(3), object(13)\n",
      "memory usage: 114.2+ KB\n"
     ]
    }
   ],
   "source": [
    "matches.info()"
   ]
  },
  {
   "cell_type": "code",
   "execution_count": 17,
   "metadata": {},
   "outputs": [],
   "source": [
    "from sklearn.preprocessing  import OneHotEncoder\n",
    "from sklearn.model_selection import train_test_split\n",
    "from sklearn.tree import DecisionTreeClassifier\n",
    "from sklearn.ensemble import RandomForestClassifier\n",
    "from sklearn.metrics import confusion_matrix, classification_report, accuracy_score, recall_score, precision_score"
   ]
  },
  {
   "cell_type": "code",
   "execution_count": 18,
   "metadata": {
    "scrolled": false
   },
   "outputs": [
    {
     "data": {
      "text/html": [
       "<div>\n",
       "<style scoped>\n",
       "    .dataframe tbody tr th:only-of-type {\n",
       "        vertical-align: middle;\n",
       "    }\n",
       "\n",
       "    .dataframe tbody tr th {\n",
       "        vertical-align: top;\n",
       "    }\n",
       "\n",
       "    .dataframe thead th {\n",
       "        text-align: right;\n",
       "    }\n",
       "</style>\n",
       "<table border=\"1\" class=\"dataframe\">\n",
       "  <thead>\n",
       "    <tr style=\"text-align: right;\">\n",
       "      <th></th>\n",
       "      <th>id</th>\n",
       "      <th>city</th>\n",
       "      <th>date</th>\n",
       "      <th>player_of_match</th>\n",
       "      <th>venue</th>\n",
       "      <th>neutral_venue</th>\n",
       "      <th>team1</th>\n",
       "      <th>team2</th>\n",
       "      <th>toss_winner</th>\n",
       "      <th>toss_decision</th>\n",
       "      <th>winner</th>\n",
       "      <th>result</th>\n",
       "      <th>result_margin</th>\n",
       "      <th>eliminator</th>\n",
       "      <th>method</th>\n",
       "      <th>umpire1</th>\n",
       "      <th>umpire2</th>\n",
       "    </tr>\n",
       "  </thead>\n",
       "  <tbody>\n",
       "    <tr>\n",
       "      <th>0</th>\n",
       "      <td>335982</td>\n",
       "      <td>Bangalore</td>\n",
       "      <td>18-04-2008</td>\n",
       "      <td>BB McCullum</td>\n",
       "      <td>M Chinnaswamy Stadium</td>\n",
       "      <td>0</td>\n",
       "      <td>RCB</td>\n",
       "      <td>KKR</td>\n",
       "      <td>RCB</td>\n",
       "      <td>field</td>\n",
       "      <td>KKR</td>\n",
       "      <td>runs</td>\n",
       "      <td>140.0</td>\n",
       "      <td>N</td>\n",
       "      <td>0</td>\n",
       "      <td>Asad Rauf</td>\n",
       "      <td>RE Koertzen</td>\n",
       "    </tr>\n",
       "    <tr>\n",
       "      <th>1</th>\n",
       "      <td>335983</td>\n",
       "      <td>Chandigarh</td>\n",
       "      <td>19-04-2008</td>\n",
       "      <td>MEK Hussey</td>\n",
       "      <td>Punjab Cricket Association Stadium, Mohali</td>\n",
       "      <td>0</td>\n",
       "      <td>PBKS</td>\n",
       "      <td>SRH</td>\n",
       "      <td>SRH</td>\n",
       "      <td>bat</td>\n",
       "      <td>SRH</td>\n",
       "      <td>runs</td>\n",
       "      <td>33.0</td>\n",
       "      <td>N</td>\n",
       "      <td>0</td>\n",
       "      <td>MR Benson</td>\n",
       "      <td>SL Shastri</td>\n",
       "    </tr>\n",
       "    <tr>\n",
       "      <th>2</th>\n",
       "      <td>335984</td>\n",
       "      <td>Delhi</td>\n",
       "      <td>19-04-2008</td>\n",
       "      <td>MF Maharoof</td>\n",
       "      <td>Feroz Shah Kotla</td>\n",
       "      <td>0</td>\n",
       "      <td>DD</td>\n",
       "      <td>RR</td>\n",
       "      <td>RR</td>\n",
       "      <td>bat</td>\n",
       "      <td>DD</td>\n",
       "      <td>wickets</td>\n",
       "      <td>9.0</td>\n",
       "      <td>N</td>\n",
       "      <td>0</td>\n",
       "      <td>Aleem Dar</td>\n",
       "      <td>GA Pratapkumar</td>\n",
       "    </tr>\n",
       "    <tr>\n",
       "      <th>3</th>\n",
       "      <td>335985</td>\n",
       "      <td>Mumbai</td>\n",
       "      <td>20-04-2008</td>\n",
       "      <td>MV Boucher</td>\n",
       "      <td>Wankhede Stadium</td>\n",
       "      <td>0</td>\n",
       "      <td>MI</td>\n",
       "      <td>RCB</td>\n",
       "      <td>MI</td>\n",
       "      <td>bat</td>\n",
       "      <td>RCB</td>\n",
       "      <td>wickets</td>\n",
       "      <td>5.0</td>\n",
       "      <td>N</td>\n",
       "      <td>0</td>\n",
       "      <td>SJ Davis</td>\n",
       "      <td>DJ Harper</td>\n",
       "    </tr>\n",
       "    <tr>\n",
       "      <th>4</th>\n",
       "      <td>335986</td>\n",
       "      <td>Kolkata</td>\n",
       "      <td>20-04-2008</td>\n",
       "      <td>DJ Hussey</td>\n",
       "      <td>Eden Gardens</td>\n",
       "      <td>0</td>\n",
       "      <td>KKR</td>\n",
       "      <td>Deccan Chargers</td>\n",
       "      <td>Deccan Chargers</td>\n",
       "      <td>bat</td>\n",
       "      <td>KKR</td>\n",
       "      <td>wickets</td>\n",
       "      <td>5.0</td>\n",
       "      <td>N</td>\n",
       "      <td>0</td>\n",
       "      <td>BF Bowden</td>\n",
       "      <td>K Hariharan</td>\n",
       "    </tr>\n",
       "  </tbody>\n",
       "</table>\n",
       "</div>"
      ],
      "text/plain": [
       "       id        city        date player_of_match  \\\n",
       "0  335982   Bangalore  18-04-2008     BB McCullum   \n",
       "1  335983  Chandigarh  19-04-2008      MEK Hussey   \n",
       "2  335984       Delhi  19-04-2008     MF Maharoof   \n",
       "3  335985      Mumbai  20-04-2008      MV Boucher   \n",
       "4  335986     Kolkata  20-04-2008       DJ Hussey   \n",
       "\n",
       "                                        venue  neutral_venue team1  \\\n",
       "0                       M Chinnaswamy Stadium              0   RCB   \n",
       "1  Punjab Cricket Association Stadium, Mohali              0  PBKS   \n",
       "2                            Feroz Shah Kotla              0    DD   \n",
       "3                            Wankhede Stadium              0    MI   \n",
       "4                                Eden Gardens              0   KKR   \n",
       "\n",
       "             team2      toss_winner toss_decision winner   result  \\\n",
       "0              KKR              RCB         field    KKR     runs   \n",
       "1              SRH              SRH           bat    SRH     runs   \n",
       "2               RR               RR           bat     DD  wickets   \n",
       "3              RCB               MI           bat    RCB  wickets   \n",
       "4  Deccan Chargers  Deccan Chargers           bat    KKR  wickets   \n",
       "\n",
       "   result_margin eliminator  method    umpire1         umpire2  \n",
       "0          140.0          N       0  Asad Rauf     RE Koertzen  \n",
       "1           33.0          N       0  MR Benson      SL Shastri  \n",
       "2            9.0          N       0  Aleem Dar  GA Pratapkumar  \n",
       "3            5.0          N       0   SJ Davis       DJ Harper  \n",
       "4            5.0          N       0  BF Bowden     K Hariharan  "
      ]
     },
     "execution_count": 18,
     "metadata": {},
     "output_type": "execute_result"
    }
   ],
   "source": [
    "matches.head()"
   ]
  },
  {
   "cell_type": "code",
   "execution_count": 19,
   "metadata": {},
   "outputs": [],
   "source": [
    "matches['result_margin'] = matches['result_margin'].astype(int)"
   ]
  },
  {
   "cell_type": "code",
   "execution_count": 20,
   "metadata": {},
   "outputs": [],
   "source": [
    "matches['eliminator'] = matches['eliminator'].apply(lambda x: 0 if x == 'N' else 1)"
   ]
  },
  {
   "cell_type": "code",
   "execution_count": 21,
   "metadata": {},
   "outputs": [],
   "source": [
    "matches['toss_decision'] = matches['toss_decision'].apply(lambda x: 1 if x =='bat' else 0)"
   ]
  },
  {
   "cell_type": "code",
   "execution_count": 22,
   "metadata": {},
   "outputs": [],
   "source": [
    "matches['toss_win_game_win'] = np.where((matches.toss_winner == matches.winner),'Yes','No')\n",
    "matches['toss_win_game_win'] = matches['toss_win_game_win'].apply(lambda x: 0 if x=='No' else 1)"
   ]
  },
  {
   "cell_type": "code",
   "execution_count": 23,
   "metadata": {},
   "outputs": [],
   "source": [
    "matches['team1_homeground'] = 0\n",
    "matches.loc[(matches['city']=='Mumbai') & (matches['team1']=='MI'),'team1_homeground'] = 1\n",
    "matches.loc[(matches['city']=='Pune') & (matches['team1']=='PW'),'team1_homeground'] = 1\n",
    "matches.loc[(matches['city']=='Pune') & (matches['team1']=='RPS'),'team1_homeground'] = 1\n",
    "matches.loc[(matches['city']=='Chennai') & (matches['team1']=='CSK'),'team1_homeground'] = 1\n",
    "matches.loc[(matches['city']=='Delhi') & (matches['team1']=='Delhi Capitals'),'team1_homeground'] = 1\n",
    "matches.loc[(matches['city']=='Jaipur') & (matches['team1']=='RR'),'team1_homeground'] = 1\n",
    "matches.loc[(matches['city']=='Hyderabad') & (matches['team1']=='SRH'),'team1_homeground'] = 1\n",
    "matches.loc[(matches['city']=='Bangalore') & (matches['team1']=='RCB'),'team1_homeground'] = 1\n",
    "matches.loc[(matches['city']=='Chandigarh') & (matches['team1']=='PBKS'),'team1_homeground'] = 1\n",
    "matches.loc[(matches['city']=='Kolkata') & (matches['team1']=='KKR'),'team1_homeground'] = 1\n",
    "matches.loc[(matches['city']=='Kochi') & (matches['team1']=='KTK'),'team1_homeground'] = 1\n",
    "matches.loc[(matches['city']=='Rajkot') & (matches['team1']=='GL'),'team1_homeground'] = 1\n",
    "matches.loc[(matches['city']=='Delhi') & (matches['team1']=='DD'),'team1_homeground'] = 1\n",
    "matches.loc[(matches['city']=='Hyderabad') & (matches['team1']=='DC'),'team1_homeground'] = 1"
   ]
  },
  {
   "cell_type": "code",
   "execution_count": 24,
   "metadata": {},
   "outputs": [],
   "source": [
    "matches.drop(['city','player_of_match'], axis = 1, inplace = True)\n",
    "matches.drop(['date', 'id'], axis = 1, inplace = True)\n",
    "matches.drop('venue', axis =1, inplace = True)"
   ]
  },
  {
   "cell_type": "code",
   "execution_count": 25,
   "metadata": {},
   "outputs": [],
   "source": [
    "matches.drop(['umpire1','umpire2'], axis = 1, inplace = True)"
   ]
  },
  {
   "cell_type": "code",
   "execution_count": 26,
   "metadata": {},
   "outputs": [],
   "source": [
    "current_teams = ['KKR','MI','DC','CSK','RR','PBKS','SRH','RCB']\n",
    "data = matches[(matches['team1'].isin(current_teams)) & (matches['team2'].isin(current_teams))]"
   ]
  },
  {
   "cell_type": "code",
   "execution_count": 27,
   "metadata": {},
   "outputs": [],
   "source": [
    "data.loc[data[\"winner\"]==data[\"team1\"],\"team1_win\"]=1\n",
    "data.loc[data[\"winner\"]!=data[\"team1\"],\"team1_win\"]=0\n",
    "data['team1_win'] = data['team1_win'].astype(int)"
   ]
  },
  {
   "cell_type": "code",
   "execution_count": 28,
   "metadata": {
    "scrolled": true
   },
   "outputs": [
    {
     "data": {
      "text/plain": [
       "(404, 13)"
      ]
     },
     "execution_count": 28,
     "metadata": {},
     "output_type": "execute_result"
    }
   ],
   "source": [
    "data.shape"
   ]
  },
  {
   "cell_type": "code",
   "execution_count": 29,
   "metadata": {},
   "outputs": [],
   "source": [
    "data_vif = data"
   ]
  },
  {
   "cell_type": "code",
   "execution_count": 30,
   "metadata": {},
   "outputs": [],
   "source": [
    "from sklearn.tree import DecisionTreeClassifier\n",
    "from sklearn.ensemble import RandomForestClassifier\n",
    "from sklearn.metrics import confusion_matrix, classification_report, accuracy_score, recall_score, precision_score"
   ]
  },
  {
   "cell_type": "code",
   "execution_count": 31,
   "metadata": {},
   "outputs": [],
   "source": [
    "import statsmodels.api as sm\n",
    "\n",
    "\n",
    "def calculate_vif(data):\n",
    "    vif_df = pd.DataFrame(columns=['Var', 'Vif'])\n",
    "    x_var_names = data.columns\n",
    "    for i in range(0, x_var_names.shape[0]):\n",
    "        y = data[x_var_names[i]]\n",
    "        x = data[x_var_names.drop([x_var_names[i]])]\n",
    "        r_squared = sm.OLS(y, x).fit().rsquared\n",
    "        vif = round(1 / (1 - r_squared), 2)\n",
    "        vif_df.loc[i] = [x_var_names[i], vif]\n",
    "    return vif_df.sort_values(by='Vif', axis=0, ascending=False, inplace=False)"
   ]
  },
  {
   "cell_type": "code",
   "execution_count": 32,
   "metadata": {},
   "outputs": [],
   "source": [
    "modeldata = data[['team1','team2','toss_winner','toss_decision','result','result_margin','eliminator','method','toss_win_game_win','team1_homeground','team1_win']]"
   ]
  },
  {
   "cell_type": "code",
   "execution_count": 33,
   "metadata": {},
   "outputs": [],
   "source": [
    "modeldata.loc[modeldata[\"team1\"]==modeldata[\"toss_winner\"],\"team1_toss_win\"]=1\n",
    "modeldata.loc[modeldata[\"team1\"]!=modeldata[\"toss_winner\"],\"team1_toss_win\"]=0\n",
    "modeldata['team1_toss_win'] = modeldata['team1_toss_win'].astype(int)"
   ]
  },
  {
   "cell_type": "code",
   "execution_count": 34,
   "metadata": {},
   "outputs": [
    {
     "data": {
      "text/plain": [
       "array(['runs', 'wickets', 'tie'], dtype=object)"
      ]
     },
     "execution_count": 34,
     "metadata": {},
     "output_type": "execute_result"
    }
   ],
   "source": [
    "matches.result.unique()"
   ]
  },
  {
   "cell_type": "markdown",
   "metadata": {},
   "source": [
    "## MODEL"
   ]
  },
  {
   "cell_type": "markdown",
   "metadata": {},
   "source": [
    "### Model with variable Eliminator and Method"
   ]
  },
  {
   "cell_type": "code",
   "execution_count": 35,
   "metadata": {},
   "outputs": [],
   "source": [
    "data1 = modeldata[['team1','team2','toss_decision','result','eliminator','method','team1_homeground','team1_win'\n",
    "                   ,'team1_toss_win']]\n",
    "data = pd.get_dummies(\n",
    "    data=data1, columns=['team1', 'team2', 'result'])\n",
    "#data\n",
    "\n",
    "x = data.drop('team1_win', axis = 1)\n",
    "y = data['team1_win']\n",
    "\n",
    "x_train, x_test, y_train, y_test = train_test_split(x, y, test_size=0.2, random_state=0)"
   ]
  },
  {
   "cell_type": "code",
   "execution_count": 36,
   "metadata": {},
   "outputs": [
    {
     "name": "stdout",
     "output_type": "stream",
     "text": [
      "Accuracy of Decision Tree Classifier on test set: 0.9383\n",
      "              precision    recall  f1-score   support\n",
      "\n",
      "           0       0.94      0.91      0.92        33\n",
      "           1       0.94      0.96      0.95        48\n",
      "\n",
      "    accuracy                           0.94        81\n",
      "   macro avg       0.94      0.93      0.94        81\n",
      "weighted avg       0.94      0.94      0.94        81\n",
      "\n"
     ]
    }
   ],
   "source": [
    "#Decision Tree\n",
    "dtree=DecisionTreeClassifier()\n",
    "dtree.fit(x_train,y_train)\n",
    "y_pred_dt = dtree.predict(x_test)\n",
    "#y_score_dt = \n",
    "print('Accuracy of Decision Tree Classifier on test set: {:.4f}'.format(dtree.score(x_test, y_test)))\n",
    "\n",
    "# Confusion Matrix\n",
    "#print('Confusion Matrix')\n",
    "cm_dt =confusion_matrix(y_test, y_pred_dt)\n",
    "\n",
    "# Accuracy\n",
    "#print('Accuracy')\n",
    "as_dt = accuracy_score(y_test, y_pred_dt)*100\n",
    "\n",
    "# Recall\n",
    "#print('Recall')\n",
    "rs_dt = recall_score(y_test, y_pred_dt, average=None)\n",
    "\n",
    "# Precision\n",
    "#print('Precision')\n",
    "ps_dt = precision_score(y_test, y_pred_dt, average=None)\n",
    "\n",
    "#Classification Report\n",
    "#print('Classification Report')\n",
    "print(classification_report(y_test, y_pred_dt))"
   ]
  },
  {
   "cell_type": "code",
   "execution_count": 37,
   "metadata": {},
   "outputs": [
    {
     "data": {
      "text/plain": [
       "93.82716049382715"
      ]
     },
     "execution_count": 37,
     "metadata": {},
     "output_type": "execute_result"
    }
   ],
   "source": [
    "as_dt"
   ]
  },
  {
   "cell_type": "code",
   "execution_count": 38,
   "metadata": {},
   "outputs": [
    {
     "name": "stdout",
     "output_type": "stream",
     "text": [
      "Accuracy of Random Forest Classifier on test set: 0.8395\n",
      "[[26  7]\n",
      " [ 6 42]]\n",
      "83.9506172839506\n",
      "              precision    recall  f1-score   support\n",
      "\n",
      "           0       0.81      0.79      0.80        33\n",
      "           1       0.86      0.88      0.87        48\n",
      "\n",
      "    accuracy                           0.84        81\n",
      "   macro avg       0.83      0.83      0.83        81\n",
      "weighted avg       0.84      0.84      0.84        81\n",
      "\n"
     ]
    }
   ],
   "source": [
    "#Random Forest Classifier\n",
    "rf= RandomForestClassifier(n_estimators=100)\n",
    "rf.fit(x_train,y_train)\n",
    "y_pred_rf = rf.predict(x_test)\n",
    "print('Accuracy of Random Forest Classifier on test set: {:.4f}'.format(rf.score(x_test, y_test)))\n",
    "\n",
    "# Confusion Matrix\n",
    "#print('Confusion Matrix')\n",
    "cm_rf = confusion_matrix(y_test, y_pred_rf)\n",
    "print(cm_rf)\n",
    "# Accuracy\n",
    "#print('Accuracy')\n",
    "as_rf = accuracy_score(y_test, y_pred_rf)*100\n",
    "print(as_rf)\n",
    "# Recall\n",
    "#print('Recall')\n",
    "rs_rf = recall_score(y_test, y_pred_rf, average=None)\n",
    "\n",
    "# Precision\n",
    "#print('Precision')\n",
    "ps_rf = precision_score(y_test, y_pred_rf, average=None)\n",
    "\n",
    "#Classification Report\n",
    "#print('Classification Report')\n",
    "cr_rf = classification_report(y_test, y_pred_rf)\n",
    "print(cr_rf)\n"
   ]
  },
  {
   "cell_type": "markdown",
   "metadata": {},
   "source": [
    "### Model without variable Eliminator and Method"
   ]
  },
  {
   "cell_type": "code",
   "execution_count": 39,
   "metadata": {},
   "outputs": [
    {
     "name": "stdout",
     "output_type": "stream",
     "text": [
      "(404, 22)\n"
     ]
    },
    {
     "data": {
      "text/plain": [
       "((323, 22), (81, 22))"
      ]
     },
     "execution_count": 39,
     "metadata": {},
     "output_type": "execute_result"
    }
   ],
   "source": [
    "data1 = modeldata[['team1','team2','toss_decision','result','team1_homeground','team1_win'\n",
    "                   ,'team1_toss_win']]\n",
    "data = pd.get_dummies(data=data1, columns=['team1', 'team2', 'result'])\n",
    "#data\n",
    "\n",
    "x = data.drop('team1_win', axis = 1)\n",
    "y = data['team1_win']\n",
    "print(x.shape)\n",
    "x_train, x_test, y_train, y_test = train_test_split(x, y, test_size=0.2, random_state=0)\n",
    "x_train.shape, x_test.shape"
   ]
  },
  {
   "cell_type": "code",
   "execution_count": 40,
   "metadata": {},
   "outputs": [
    {
     "name": "stdout",
     "output_type": "stream",
     "text": [
      "toss_decision       0\n",
      "team1_homeground    1\n",
      "team1_toss_win      1\n",
      "team1_CSK           0\n",
      "team1_DC            0\n",
      "team1_KKR           0\n",
      "team1_MI            0\n",
      "team1_PBKS          0\n",
      "team1_RCB           1\n",
      "team1_RR            0\n",
      "team1_SRH           0\n",
      "team2_CSK           0\n",
      "team2_DC            0\n",
      "team2_KKR           1\n",
      "team2_MI            0\n",
      "team2_PBKS          0\n",
      "team2_RCB           0\n",
      "team2_RR            0\n",
      "team2_SRH           0\n",
      "result_runs         1\n",
      "result_tie          0\n",
      "result_wickets      0\n",
      "Name: 0, dtype: int64\n"
     ]
    },
    {
     "data": {
      "text/plain": [
       "0"
      ]
     },
     "execution_count": 40,
     "metadata": {},
     "output_type": "execute_result"
    }
   ],
   "source": [
    "print(x_train.loc[0])\n",
    "y_train.loc[0]"
   ]
  },
  {
   "cell_type": "code",
   "execution_count": 41,
   "metadata": {
    "scrolled": false
   },
   "outputs": [
    {
     "name": "stdout",
     "output_type": "stream",
     "text": [
      "Accuracy of Decision Tree Classifier on test set: 0.9259\n"
     ]
    }
   ],
   "source": [
    "#Decision Tree\n",
    "dtree1=DecisionTreeClassifier()\n",
    "dtree1.fit(x_train,y_train)\n",
    "y_pred_dt1 = dtree1.predict(x_test)\n",
    "#y_score_dt = \n",
    "print('Accuracy of Decision Tree Classifier on test set: {:.4f}'.format(dtree1.score(x_test, y_test)))\n",
    "\n",
    "# Confusion Matrix\n",
    "#print('Confusion Matrix')\n",
    "cm_dt1 =confusion_matrix(y_test, y_pred_dt1)\n",
    "\n",
    "# Accuracy\n",
    "#print('Accuracy')\n",
    "as_dt1 = accuracy_score(y_test, y_pred_dt1)*100\n",
    "\n",
    "# Recall\n",
    "#print('Recall')\n",
    "rs_dt1 = recall_score(y_test, y_pred_dt1, average=None)\n",
    "\n",
    "# Precision\n",
    "#print('Precision')\n",
    "ps_dt1 = precision_score(y_test, y_pred_dt1, average=None)\n",
    "\n",
    "#Classification Report\n",
    "#print('Classification Report')\n",
    "cr_dt1 = classification_report(y_test, y_pred_dt1)"
   ]
  },
  {
   "cell_type": "code",
   "execution_count": 42,
   "metadata": {},
   "outputs": [],
   "source": [
    "import pickle\n",
    "file = open('tree11.pkl', 'wb')\n",
    "\n",
    "pickle.dump(dtree1, file)"
   ]
  },
  {
   "cell_type": "code",
   "execution_count": 43,
   "metadata": {},
   "outputs": [
    {
     "name": "stdout",
     "output_type": "stream",
     "text": [
      "Accuracy of Random Forest Classifier on test set: 0.8025\n"
     ]
    }
   ],
   "source": [
    "#Random Forest Classifier\n",
    "rf1= RandomForestClassifier(n_estimators=100)\n",
    "rf1.fit(x_train,y_train)\n",
    "y_pred_rf1 = rf1.predict(x_test)\n",
    "print('Accuracy of Random Forest Classifier on test set: {:.4f}'.format(rf1.score(x_test, y_test)))\n",
    "\n",
    "# Confusion Matrix\n",
    "#print('Confusion Matrix')\n",
    "cm_rf1 = confusion_matrix(y_test, y_pred_rf1)\n",
    "# Accuracy\n",
    "#print('Accuracy')\n",
    "as_rf1 = accuracy_score(y_test, y_pred_rf1)*100\n",
    "# Recall\n",
    "#print('Recall')\n",
    "rs_rf1 = recall_score(y_test, y_pred_rf1, average=None)\n",
    "# Precision\n",
    "#print('Precision')\n",
    "ps_rf1 = precision_score(y_test, y_pred_rf1, average=None)\n",
    "#Classification Report\n",
    "#print('Classification Report')\n",
    "cr_rf1 = classification_report(y_test, y_pred_rf1)\n",
    "\n"
   ]
  },
  {
   "cell_type": "code",
   "execution_count": 44,
   "metadata": {},
   "outputs": [
    {
     "data": {
      "text/plain": [
       "array([1])"
      ]
     },
     "execution_count": 44,
     "metadata": {},
     "output_type": "execute_result"
    }
   ],
   "source": [
    "dtree1.predict([[0,0,1,0,0,0,0,0,1,0,0,0,0,0,0,0,0,0,1,0,0,1]])"
   ]
  },
  {
   "cell_type": "code",
   "execution_count": 45,
   "metadata": {},
   "outputs": [],
   "source": [
    "import pickle\n",
    "file = open('decision_tree1.pkl', 'wb')\n",
    "\n",
    "pickle.dump(dtree1, file)"
   ]
  },
  {
   "cell_type": "code",
   "execution_count": 52,
   "metadata": {},
   "outputs": [
    {
     "data": {
      "text/plain": [
       "toss_decision       0\n",
       "team1_homeground    1\n",
       "team1_toss_win      1\n",
       "team1_CSK           0\n",
       "team1_DC            0\n",
       "team1_KKR           0\n",
       "team1_MI            0\n",
       "team1_PBKS          0\n",
       "team1_RCB           1\n",
       "team1_RR            0\n",
       "team1_SRH           0\n",
       "team2_CSK           0\n",
       "team2_DC            0\n",
       "team2_KKR           1\n",
       "team2_MI            0\n",
       "team2_PBKS          0\n",
       "team2_RCB           0\n",
       "team2_RR            0\n",
       "team2_SRH           0\n",
       "result_runs         1\n",
       "result_tie          0\n",
       "result_wickets      0\n",
       "Name: 0, dtype: int64"
      ]
     },
     "execution_count": 52,
     "metadata": {},
     "output_type": "execute_result"
    }
   ],
   "source": [
    "x_train.loc[0]"
   ]
  },
  {
   "cell_type": "code",
   "execution_count": 54,
   "metadata": {},
   "outputs": [
    {
     "data": {
      "text/plain": [
       "0"
      ]
     },
     "execution_count": 54,
     "metadata": {},
     "output_type": "execute_result"
    }
   ],
   "source": [
    "y_train.loc[0]"
   ]
  },
  {
   "cell_type": "raw",
   "metadata": {},
   "source": [
    "data1 = modeldata[['team1','team2','toss_decision','team1_homeground','team1_win'\n",
    "                   ,'team1_toss_win']]\n",
    "data = pd.get_dummies(data=data1, columns=['team1', 'team2'])\n",
    "#data\n",
    "\n",
    "x = data.drop('team1_win', axis = 1)\n",
    "y = data['team1_win']\n",
    "print(x.shape)\n",
    "x_train, x_test, y_train, y_test = train_test_split(x, y, test_size=0.2, random_state=0)\n",
    "x_train.shape, x_test.shape\n",
    "\n",
    "dtree1=DecisionTreeClassifier()\n",
    "dtree1.fit(x_train,y_train)\n",
    "y_pred_dt1 = dtree1.predict(x_test)\n",
    "#y_score_dt = \n",
    "print('Accuracy of Decision Tree Classifier on test set: {:.4f}'.format(dtree1.score(x_test, y_test)))\n",
    "\n",
    "#Random Forest Classifier\n",
    "rf1= RandomForestClassifier(n_estimators=100)\n",
    "rf1.fit(x_train,y_train)\n",
    "y_pred_rf1 = rf1.predict(x_test)\n",
    "print('Accuracy of Random Forest Classifier on test set: {:.4f}'.format(rf1.score(x_test, y_test)))\n",
    "\n",
    "from sklearn.svm import SVC\n",
    "# Fitting SVM model\n",
    "svm=SVC()\n",
    "svm.fit(x_train,y_train)\n",
    "y_pred_svm = svm.predict(x_test)\n",
    "print('Accuracy of SVM Classifier on test set: {:.4f}'.format(svm.score(x_test, y_test)))\n"
   ]
  }
 ],
 "metadata": {
  "kernelspec": {
   "display_name": "Python 3",
   "language": "python",
   "name": "python3"
  },
  "language_info": {
   "codemirror_mode": {
    "name": "ipython",
    "version": 3
   },
   "file_extension": ".py",
   "mimetype": "text/x-python",
   "name": "python",
   "nbconvert_exporter": "python",
   "pygments_lexer": "ipython3",
   "version": "3.8.3"
  },
  "toc": {
   "base_numbering": 1,
   "nav_menu": {},
   "number_sections": true,
   "sideBar": true,
   "skip_h1_title": false,
   "title_cell": "Table of Contents",
   "title_sidebar": "Contents",
   "toc_cell": false,
   "toc_position": {},
   "toc_section_display": true,
   "toc_window_display": false
  },
  "varInspector": {
   "cols": {
    "lenName": 16,
    "lenType": 16,
    "lenVar": 40
   },
   "kernels_config": {
    "python": {
     "delete_cmd_postfix": "",
     "delete_cmd_prefix": "del ",
     "library": "var_list.py",
     "varRefreshCmd": "print(var_dic_list())"
    },
    "r": {
     "delete_cmd_postfix": ") ",
     "delete_cmd_prefix": "rm(",
     "library": "var_list.r",
     "varRefreshCmd": "cat(var_dic_list()) "
    }
   },
   "types_to_exclude": [
    "module",
    "function",
    "builtin_function_or_method",
    "instance",
    "_Feature"
   ],
   "window_display": false
  }
 },
 "nbformat": 4,
 "nbformat_minor": 5
}
